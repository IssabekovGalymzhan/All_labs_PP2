{
 "cells": [
  {
   "cell_type": "code",
   "execution_count": null,
   "metadata": {},
   "outputs": [
    {
     "name": "stdout",
     "output_type": "stream",
     "text": [
      "120\n"
     ]
    }
   ],
   "source": [
    "# 1\n",
    "from functools import reduce\n",
    "\n",
    "def multiply_list(numbers):\n",
    "    return reduce(lambda x, y: x * y, numbers)\n",
    "\n",
    "print(multiply_list([2, 3, 4, 5]))  \n"
   ]
  },
  {
   "cell_type": "code",
   "execution_count": null,
   "metadata": {},
   "outputs": [
    {
     "name": "stdout",
     "output_type": "stream",
     "text": [
      "{'Uppercase': 2, 'Lowercase': 8}\n"
     ]
    }
   ],
   "source": [
    "# 2\n",
    "def count_case(s):\n",
    "    upper = sum(1 for c in s if c.isupper())\n",
    "    lower = sum(1 for c in s if c.islower())\n",
    "    return {\"Uppercase\": upper, \"Lowercase\": lower}\n",
    "\n",
    "print(count_case(\"Hello World!\"))  \n"
   ]
  },
  {
   "cell_type": "code",
   "execution_count": null,
   "metadata": {},
   "outputs": [
    {
     "name": "stdout",
     "output_type": "stream",
     "text": [
      "True\n"
     ]
    }
   ],
   "source": [
    "# 3\n",
    "def is_palindrome(s):\n",
    "    cleaned = s.lower().replace(\" \", \"\")\n",
    "    return cleaned == cleaned[::-1]\n",
    "\n",
    "print(is_palindrome(\"Racecar\"))  \n"
   ]
  },
  {
   "cell_type": "code",
   "execution_count": null,
   "metadata": {},
   "outputs": [
    {
     "name": "stdout",
     "output_type": "stream",
     "text": [
      "Square root of 25100 after 2123 milliseconds is 158.42979517754858\n"
     ]
    }
   ],
   "source": [
    "# 4\n",
    "import math\n",
    "import time\n",
    "\n",
    "def delayed_sqrt(number, delay_ms):\n",
    "    time.sleep(delay_ms / 1000)  \n",
    "    return f\"Square root of {number} after {delay_ms} milliseconds is {math.sqrt(number)}\"\n",
    "\n",
    "print(delayed_sqrt(25100, 2123))  "
   ]
  },
  {
   "cell_type": "code",
   "execution_count": null,
   "metadata": {},
   "outputs": [
    {
     "name": "stdout",
     "output_type": "stream",
     "text": [
      "True\n",
      "False\n"
     ]
    }
   ],
   "source": [
    "# 5\n",
    "def all_true(t):\n",
    "    return all(t)\n",
    "\n",
    "print(all_true((True, True, 1, \"hello\")))  # Ожидаемый вывод: True\n",
    "print(all_true((True, False, 1, \"hello\"))) # Ожидаемый вывод: False"
   ]
  }
 ],
 "metadata": {
  "kernelspec": {
   "display_name": "Python 3",
   "language": "python",
   "name": "python3"
  },
  "language_info": {
   "codemirror_mode": {
    "name": "ipython",
    "version": 3
   },
   "file_extension": ".py",
   "mimetype": "text/x-python",
   "name": "python",
   "nbconvert_exporter": "python",
   "pygments_lexer": "ipython3",
   "version": "3.13.1"
  }
 },
 "nbformat": 4,
 "nbformat_minor": 2
}
