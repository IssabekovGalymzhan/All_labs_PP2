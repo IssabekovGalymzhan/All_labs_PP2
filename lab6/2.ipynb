{
 "cells": [
  {
   "cell_type": "code",
   "execution_count": null,
   "metadata": {},
   "outputs": [],
   "source": [
    "# 1\n",
    "import os\n",
    "def list_contents(path):\n",
    "    directories = [d for d in os.listdir(path) if os.path.isdir(os.path.join(path, d))]\n",
    "    files = [f for f in os.listdir(path) if os.path.isfile(os.path.join(path, f))]\n",
    "    print(\"Directories:\", directories)\n",
    "    print(\"Files:\", files)\n",
    "    print(\"All contents:\", os.listdir(path))\n",
    "\n",
    "\n"
   ]
  },
  {
   "cell_type": "code",
   "execution_count": 2,
   "metadata": {},
   "outputs": [],
   "source": [
    "# 2\n",
    "def check_access(path):\n",
    "    print(\"Exists:\", os.path.exists(path))\n",
    "    print(\"Readable:\", os.access(path, os.R_OK))\n",
    "    print(\"Writable:\", os.access(path, os.W_OK))\n",
    "    print(\"Executable:\", os.access(path, os.X_OK))\n"
   ]
  },
  {
   "cell_type": "code",
   "execution_count": 3,
   "metadata": {},
   "outputs": [],
   "source": [
    "# 3\n",
    "def test_path(path):\n",
    "    if os.path.exists(path):\n",
    "        print(\"Path exists.\")\n",
    "        print(\"Directory:\", os.path.dirname(path))\n",
    "        print(\"Filename:\", os.path.basename(path))\n",
    "    else:\n",
    "        print(\"Path does not exist.\")\n",
    "\n",
    "# test_path(\"C:/Users/file.txt\")\n"
   ]
  },
  {
   "cell_type": "code",
   "execution_count": 4,
   "metadata": {},
   "outputs": [],
   "source": [
    "# 4\n",
    "def count_lines(file_path):\n",
    "    with open(file_path, 'r', encoding='utf-8') as f:\n",
    "        print(\"Number of lines:\", sum(1 for _ in f))\n",
    "\n",
    "\n"
   ]
  },
  {
   "cell_type": "code",
   "execution_count": 5,
   "metadata": {},
   "outputs": [],
   "source": [
    "# 5\n",
    "def write_list_to_file(file_path, data_list):\n",
    "    with open(file_path, 'w', encoding='utf-8') as f:\n",
    "        f.writelines(\"\\n\".join(data_list))\n",
    "\n",
    "\n",
    "\n"
   ]
  },
  {
   "cell_type": "code",
   "execution_count": 6,
   "metadata": {},
   "outputs": [],
   "source": [
    "# 6\n",
    "def generate_text_files():\n",
    "    for letter in range(65, 91):  # ASCII A-Z\n",
    "        with open(chr(letter) + \".txt\", 'w') as f:\n",
    "            f.write(f\"This is file {chr(letter)}.txt\\n\")"
   ]
  },
  {
   "cell_type": "code",
   "execution_count": 7,
   "metadata": {},
   "outputs": [],
   "source": [
    "# 7\n",
    "import shutil\n",
    "\n",
    "def copy_file(source, destination):\n",
    "    shutil.copyfile(source, destination)"
   ]
  },
  {
   "cell_type": "code",
   "execution_count": 8,
   "metadata": {},
   "outputs": [],
   "source": [
    "# 8\n",
    "def delete_file(file_path):\n",
    "    if os.path.exists(file_path) and os.access(file_path, os.W_OK):\n",
    "        os.remove(file_path)\n",
    "        print(\"File deleted successfully.\")\n",
    "    else:\n",
    "        print(\"File does not exist or cannot be deleted.\")\n"
   ]
  }
 ],
 "metadata": {
  "kernelspec": {
   "display_name": "Python 3",
   "language": "python",
   "name": "python3"
  },
  "language_info": {
   "codemirror_mode": {
    "name": "ipython",
    "version": 3
   },
   "file_extension": ".py",
   "mimetype": "text/x-python",
   "name": "python",
   "nbconvert_exporter": "python",
   "pygments_lexer": "ipython3",
   "version": "3.13.1"
  }
 },
 "nbformat": 4,
 "nbformat_minor": 2
}
