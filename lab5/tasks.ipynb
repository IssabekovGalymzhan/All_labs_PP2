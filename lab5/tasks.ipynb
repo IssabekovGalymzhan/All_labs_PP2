{
 "cells": [
  {
   "cell_type": "code",
   "execution_count": 1,
   "metadata": {},
   "outputs": [],
   "source": [
    "import re"
   ]
  },
  {
   "cell_type": "code",
   "execution_count": 2,
   "metadata": {},
   "outputs": [],
   "source": [
    "# 1\n",
    "def match_ab(string):\n",
    "    return re.fullmatch(r'a*b*', string) is not None"
   ]
  },
  {
   "cell_type": "code",
   "execution_count": 3,
   "metadata": {},
   "outputs": [],
   "source": [
    "# 2\n",
    "def match_a_bbb(string):\n",
    "    return re.fullmatch(r'ab{2,3}', string) is not None"
   ]
  },
  {
   "cell_type": "code",
   "execution_count": 4,
   "metadata": {},
   "outputs": [],
   "source": [
    "# 3\n",
    "def find_lowercase_underscore(string):\n",
    "    return re.findall(r'\\b[a-z]+_[a-z]+\\b', string)"
   ]
  },
  {
   "cell_type": "code",
   "execution_count": 5,
   "metadata": {},
   "outputs": [],
   "source": [
    "# 4\n",
    "def find_upper_lower(string):\n",
    "    return re.findall(r'\\b[A-Z][a-z]+\\b', string)"
   ]
  },
  {
   "cell_type": "code",
   "execution_count": 6,
   "metadata": {},
   "outputs": [],
   "source": [
    "# 5\n",
    "def match_a_any_b(string):\n",
    "    return re.fullmatch(r'a.*b', string) is not None"
   ]
  },
  {
   "cell_type": "code",
   "execution_count": 7,
   "metadata": {},
   "outputs": [],
   "source": [
    "# 6\n",
    "def replace_with_colon(string):\n",
    "    return re.sub(r'[\\s,.]', ':', string)"
   ]
  },
  {
   "cell_type": "code",
   "execution_count": 8,
   "metadata": {},
   "outputs": [],
   "source": [
    "# 7\n",
    "def snake_to_camel(string):\n",
    "    return re.sub(r'_([a-z])', lambda match: match.group(1).upper(), string)"
   ]
  },
  {
   "cell_type": "code",
   "execution_count": 9,
   "metadata": {},
   "outputs": [],
   "source": [
    "# 8\n",
    "def split_at_uppercase(string):\n",
    "    return re.split(r'(?=[A-Z])', string)\n"
   ]
  },
  {
   "cell_type": "code",
   "execution_count": 10,
   "metadata": {},
   "outputs": [],
   "source": [
    "# 9\n",
    "def insert_spaces_capital(string):\n",
    "    return re.sub(r'([a-z])([A-Z])', r'\\1 \\2', string)"
   ]
  },
  {
   "cell_type": "code",
   "execution_count": 11,
   "metadata": {},
   "outputs": [],
   "source": [
    "# 10\n",
    "def camel_to_snake(string):\n",
    "    return re.sub(r'([a-z])([A-Z])', r'\\1_\\2', string).lower()\n"
   ]
  }
 ],
 "metadata": {
  "kernelspec": {
   "display_name": "Python 3",
   "language": "python",
   "name": "python3"
  },
  "language_info": {
   "codemirror_mode": {
    "name": "ipython",
    "version": 3
   },
   "file_extension": ".py",
   "mimetype": "text/x-python",
   "name": "python",
   "nbconvert_exporter": "python",
   "pygments_lexer": "ipython3",
   "version": "3.13.1"
  }
 },
 "nbformat": 4,
 "nbformat_minor": 2
}
