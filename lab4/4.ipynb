{
 "cells": [
  {
   "cell_type": "code",
   "execution_count": 1,
   "metadata": {},
   "outputs": [
    {
     "name": "stdout",
     "output_type": "stream",
     "text": [
      "Radian: 0.261799\n"
     ]
    }
   ],
   "source": [
    "# 1.\n",
    "import math\n",
    "\n",
    "def degrees_to_radians(degrees):\n",
    "    return degrees * (math.pi / 180)\n",
    "\n",
    "degree = 15\n",
    "print(\"Radian:\", round(degrees_to_radians(degree), 6))\n"
   ]
  },
  {
   "cell_type": "code",
   "execution_count": 2,
   "metadata": {},
   "outputs": [
    {
     "name": "stdout",
     "output_type": "stream",
     "text": [
      "Area of Trapezoid: 27.5\n"
     ]
    }
   ],
   "source": [
    "# 2. \n",
    "def trapezoid_area(height, base1, base2):\n",
    "    return ((base1 + base2) * height) / 2\n",
    "\n",
    "height = 5\n",
    "base1 = 5\n",
    "base2 = 6\n",
    "print(\"Area of Trapezoid:\", trapezoid_area(height, base1, base2))\n"
   ]
  },
  {
   "cell_type": "code",
   "execution_count": 3,
   "metadata": {},
   "outputs": [
    {
     "name": "stdout",
     "output_type": "stream",
     "text": [
      "Area of Polygon: 625.0000000000001\n"
     ]
    }
   ],
   "source": [
    "# 3. \n",
    "def polygon_area(sides, length):\n",
    "    return (sides * (length ** 2)) / (4 * math.tan(math.pi / sides))\n",
    "\n",
    "sides = 4\n",
    "length = 25\n",
    "print(\"Area of Polygon:\", polygon_area(sides, length))\n"
   ]
  },
  {
   "cell_type": "code",
   "execution_count": 4,
   "metadata": {},
   "outputs": [
    {
     "name": "stdout",
     "output_type": "stream",
     "text": [
      "Area of Parallelogram: 30\n"
     ]
    }
   ],
   "source": [
    "# 4. \n",
    "def parallelogram_area(base, height):\n",
    "    return base * height\n",
    "\n",
    "base = 5\n",
    "height = 6\n",
    "print(\"Area of Parallelogram:\", parallelogram_area(base, height))\n"
   ]
  }
 ],
 "metadata": {
  "kernelspec": {
   "display_name": "Python 3",
   "language": "python",
   "name": "python3"
  },
  "language_info": {
   "codemirror_mode": {
    "name": "ipython",
    "version": 3
   },
   "file_extension": ".py",
   "mimetype": "text/x-python",
   "name": "python",
   "nbconvert_exporter": "python",
   "pygments_lexer": "ipython3",
   "version": "3.13.1"
  }
 },
 "nbformat": 4,
 "nbformat_minor": 2
}
